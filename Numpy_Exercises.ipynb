{
  "nbformat": 4,
  "nbformat_minor": 0,
  "metadata": {
    "colab": {
      "provenance": []
    },
    "kernelspec": {
      "name": "python3",
      "display_name": "Python 3"
    },
    "language_info": {
      "name": "python"
    }
  },
  "cells": [
    {
      "cell_type": "code",
      "execution_count": 19,
      "metadata": {
        "id": "ygR72fI3oN2v"
      },
      "outputs": [],
      "source": [
        "# 1. Import the numpy package under the name np\n",
        "import numpy as np"
      ]
    },
    {
      "cell_type": "code",
      "source": [
        "# 2. Print the numpy version and the configuration\n",
        "np.__version__\n",
        "np.show_config()"
      ],
      "metadata": {
        "id": "2tRh5RCmqIDZ",
        "colab": {
          "base_uri": "https://localhost:8080/"
        },
        "outputId": "7747c57c-36b8-4e78-aba3-0f897ecdede9"
      },
      "execution_count": 20,
      "outputs": [
        {
          "output_type": "stream",
          "name": "stdout",
          "text": [
            "blas_mkl_info:\n",
            "  NOT AVAILABLE\n",
            "blis_info:\n",
            "  NOT AVAILABLE\n",
            "openblas_info:\n",
            "    libraries = ['openblas', 'openblas']\n",
            "    library_dirs = ['/usr/local/lib']\n",
            "    language = c\n",
            "    define_macros = [('HAVE_CBLAS', None)]\n",
            "    runtime_library_dirs = ['/usr/local/lib']\n",
            "blas_opt_info:\n",
            "    libraries = ['openblas', 'openblas']\n",
            "    library_dirs = ['/usr/local/lib']\n",
            "    language = c\n",
            "    define_macros = [('HAVE_CBLAS', None)]\n",
            "    runtime_library_dirs = ['/usr/local/lib']\n",
            "lapack_mkl_info:\n",
            "  NOT AVAILABLE\n",
            "openblas_lapack_info:\n",
            "    libraries = ['openblas', 'openblas']\n",
            "    library_dirs = ['/usr/local/lib']\n",
            "    language = c\n",
            "    define_macros = [('HAVE_CBLAS', None)]\n",
            "    runtime_library_dirs = ['/usr/local/lib']\n",
            "lapack_opt_info:\n",
            "    libraries = ['openblas', 'openblas']\n",
            "    library_dirs = ['/usr/local/lib']\n",
            "    language = c\n",
            "    define_macros = [('HAVE_CBLAS', None)]\n",
            "    runtime_library_dirs = ['/usr/local/lib']\n",
            "Supported SIMD extensions in this NumPy install:\n",
            "    baseline = SSE,SSE2,SSE3\n",
            "    found = SSSE3,SSE41,POPCNT,SSE42,AVX,F16C,FMA3,AVX2\n",
            "    not found = AVX512F,AVX512CD,AVX512_KNL,AVX512_KNM,AVX512_SKX,AVX512_CLX,AVX512_CNL,AVX512_ICL\n"
          ]
        }
      ]
    },
    {
      "cell_type": "code",
      "source": [
        "# 3. Create an array of 10 zeros\n",
        "np.zeros(10)"
      ],
      "metadata": {
        "id": "ljaVTQBhqVI_",
        "colab": {
          "base_uri": "https://localhost:8080/"
        },
        "outputId": "bf3f0286-f460-4d5f-eaec-7c194e21b024"
      },
      "execution_count": 21,
      "outputs": [
        {
          "output_type": "execute_result",
          "data": {
            "text/plain": [
              "array([0., 0., 0., 0., 0., 0., 0., 0., 0., 0.])"
            ]
          },
          "metadata": {},
          "execution_count": 21
        }
      ]
    },
    {
      "cell_type": "code",
      "source": [
        "# 4. Create an array of 10 zeros where the fifth element value is set to 1\n",
        "X=np.zeros(10)\n",
        "X[4]=1\n",
        "print(X)"
      ],
      "metadata": {
        "id": "tHpLIdemqa0e",
        "colab": {
          "base_uri": "https://localhost:8080/"
        },
        "outputId": "8983d8ff-5fc3-4937-b4cf-c2e53ef588cc"
      },
      "execution_count": 22,
      "outputs": [
        {
          "output_type": "stream",
          "name": "stdout",
          "text": [
            "[0. 0. 0. 0. 1. 0. 0. 0. 0. 0.]\n"
          ]
        }
      ]
    },
    {
      "cell_type": "code",
      "source": [
        "# 5. Create an array with values ranging from 10 to 49 (inclusive) and reverse it\n",
        "Y=np.arange(10, 50)\n",
        "np.flip(Y)"
      ],
      "metadata": {
        "id": "ZY7hYbjysF7A",
        "colab": {
          "base_uri": "https://localhost:8080/"
        },
        "outputId": "6c937ef3-d7b2-4483-cb54-bdf3ace0d728"
      },
      "execution_count": 23,
      "outputs": [
        {
          "output_type": "execute_result",
          "data": {
            "text/plain": [
              "array([49, 48, 47, 46, 45, 44, 43, 42, 41, 40, 39, 38, 37, 36, 35, 34, 33,\n",
              "       32, 31, 30, 29, 28, 27, 26, 25, 24, 23, 22, 21, 20, 19, 18, 17, 16,\n",
              "       15, 14, 13, 12, 11, 10])"
            ]
          },
          "metadata": {},
          "execution_count": 23
        }
      ]
    },
    {
      "cell_type": "code",
      "source": [
        "# 6. Find indices of non-zero elements from [1, 2, 0, 0, 4, 0]\n",
        "np.nonzero([1, 2, 0, 0, 4, 0])"
      ],
      "metadata": {
        "id": "yPZqKUnDvskW",
        "colab": {
          "base_uri": "https://localhost:8080/"
        },
        "outputId": "aeca168c-f400-4a65-f9c3-26ff7373805d"
      },
      "execution_count": 24,
      "outputs": [
        {
          "output_type": "execute_result",
          "data": {
            "text/plain": [
              "(array([0, 1, 4]),)"
            ]
          },
          "metadata": {},
          "execution_count": 24
        }
      ]
    },
    {
      "cell_type": "code",
      "source": [
        "# 7. Create a 3x3 identity matrix\n",
        "np.eye(3)"
      ],
      "metadata": {
        "id": "xbOMAPU3v97A",
        "colab": {
          "base_uri": "https://localhost:8080/"
        },
        "outputId": "de75fe1c-4f45-4cd2-b622-aaf6a55a97c4"
      },
      "execution_count": 25,
      "outputs": [
        {
          "output_type": "execute_result",
          "data": {
            "text/plain": [
              "array([[1., 0., 0.],\n",
              "       [0., 1., 0.],\n",
              "       [0., 0., 1.]])"
            ]
          },
          "metadata": {},
          "execution_count": 25
        }
      ]
    },
    {
      "cell_type": "code",
      "source": [
        "# 8. Create a 3x3x3 array with random values\n",
        "np.random.random((3, 3, 3))"
      ],
      "metadata": {
        "id": "BgzKSYCvwD5U",
        "colab": {
          "base_uri": "https://localhost:8080/"
        },
        "outputId": "a792e2f4-4244-4472-ac17-49c5a3c9d09c"
      },
      "execution_count": 26,
      "outputs": [
        {
          "output_type": "execute_result",
          "data": {
            "text/plain": [
              "array([[[0.54082134, 0.75031713, 0.90168277],\n",
              "        [0.47552285, 0.46917436, 0.07806539],\n",
              "        [0.75278034, 0.34627498, 0.93832191]],\n",
              "\n",
              "       [[0.01966449, 0.149698  , 0.94345671],\n",
              "        [0.35885414, 0.44665076, 0.43281304],\n",
              "        [0.15957744, 0.33718493, 0.62651518]],\n",
              "\n",
              "       [[0.3169885 , 0.50993419, 0.05735843],\n",
              "        [0.05250211, 0.56944797, 0.65435771],\n",
              "        [0.71841452, 0.95898237, 0.56413972]]])"
            ]
          },
          "metadata": {},
          "execution_count": 26
        }
      ]
    },
    {
      "cell_type": "code",
      "source": [
        "# 9. Create an array of all the even numbers from 30 to 70 (inclusive)\n",
        "np.arange(30,71,2)"
      ],
      "metadata": {
        "id": "oj1jIhM5wlhX",
        "colab": {
          "base_uri": "https://localhost:8080/"
        },
        "outputId": "ff870357-3393-4e5b-9dc2-2beb62576241"
      },
      "execution_count": 27,
      "outputs": [
        {
          "output_type": "execute_result",
          "data": {
            "text/plain": [
              "array([30, 32, 34, 36, 38, 40, 42, 44, 46, 48, 50, 52, 54, 56, 58, 60, 62,\n",
              "       64, 66, 68, 70])"
            ]
          },
          "metadata": {},
          "execution_count": 27
        }
      ]
    },
    {
      "cell_type": "code",
      "source": [
        "# 10. Generate 10x10 array with random integers between 0 to 4 (inclusive) and find the minimum and maximum values\n",
        "A=np.random.randint(0, 5, (10,10))\n",
        "print(A.min(),A.max())"
      ],
      "metadata": {
        "id": "TwA5DGo2xKpG",
        "colab": {
          "base_uri": "https://localhost:8080/"
        },
        "outputId": "ad630a37-c40d-4800-bb73-7eaf7e4ede06"
      },
      "execution_count": 28,
      "outputs": [
        {
          "output_type": "stream",
          "name": "stdout",
          "text": [
            "0 4\n"
          ]
        }
      ]
    },
    {
      "cell_type": "code",
      "source": [
        "# 11. Create a 5x5 matrix with values 1, 2, 3, 4 just below the diagonal\n",
        "np.diag([1, 2, 3, 4],-1)"
      ],
      "metadata": {
        "id": "iu2HOSqs0sSp",
        "colab": {
          "base_uri": "https://localhost:8080/"
        },
        "outputId": "ab2961eb-493e-41d2-d5bc-a42a5e17eafa"
      },
      "execution_count": 29,
      "outputs": [
        {
          "output_type": "execute_result",
          "data": {
            "text/plain": [
              "array([[0, 0, 0, 0, 0],\n",
              "       [1, 0, 0, 0, 0],\n",
              "       [0, 2, 0, 0, 0],\n",
              "       [0, 0, 3, 0, 0],\n",
              "       [0, 0, 0, 4, 0]])"
            ]
          },
          "metadata": {},
          "execution_count": 29
        }
      ]
    },
    {
      "cell_type": "code",
      "source": [
        "# 12. Create an array with values ranging from 20 to 39 (inclusive). Calculate the square root of elements in it.\n",
        "np.sqrt(np.arange(20,40))"
      ],
      "metadata": {
        "id": "PVrlR2z11iEY",
        "colab": {
          "base_uri": "https://localhost:8080/"
        },
        "outputId": "5a0544d3-252f-4a23-a53a-0cd497451ea6"
      },
      "execution_count": 30,
      "outputs": [
        {
          "output_type": "execute_result",
          "data": {
            "text/plain": [
              "array([4.47213595, 4.58257569, 4.69041576, 4.79583152, 4.89897949,\n",
              "       5.        , 5.09901951, 5.19615242, 5.29150262, 5.38516481,\n",
              "       5.47722558, 5.56776436, 5.65685425, 5.74456265, 5.83095189,\n",
              "       5.91607978, 6.        , 6.08276253, 6.164414  , 6.244998  ])"
            ]
          },
          "metadata": {},
          "execution_count": 30
        }
      ]
    },
    {
      "cell_type": "code",
      "source": [
        "# 13. Transpose the given array [[1, 2, 3], [4, 5, 6], [7, 8, 9], [10, 11, 12]]\n",
        "np.transpose([[1, 2, 3], [4, 5, 6], [7, 8, 9], [10, 11, 12]])"
      ],
      "metadata": {
        "id": "0NSW7Bwg14wi",
        "colab": {
          "base_uri": "https://localhost:8080/"
        },
        "outputId": "07b6deb6-8d71-43ad-b513-79f5e8522056"
      },
      "execution_count": 31,
      "outputs": [
        {
          "output_type": "execute_result",
          "data": {
            "text/plain": [
              "array([[ 1,  4,  7, 10],\n",
              "       [ 2,  5,  8, 11],\n",
              "       [ 3,  6,  9, 12]])"
            ]
          },
          "metadata": {},
          "execution_count": 31
        }
      ]
    },
    {
      "cell_type": "code",
      "source": [
        "# 14. Inverse the given array [[3, 4], [5, 6]]\n",
        "np.linalg.inv([[3, 4], [5, 6]])"
      ],
      "metadata": {
        "id": "G7jMfJmz2B40",
        "colab": {
          "base_uri": "https://localhost:8080/"
        },
        "outputId": "2fea00b0-0ece-45f0-fa0f-86b11cc2aa3c"
      },
      "execution_count": 32,
      "outputs": [
        {
          "output_type": "execute_result",
          "data": {
            "text/plain": [
              "array([[-3. ,  2. ],\n",
              "       [ 2.5, -1.5]])"
            ]
          },
          "metadata": {},
          "execution_count": 32
        }
      ]
    },
    {
      "cell_type": "code",
      "source": [
        "# 15. Concatenate two given arrays by columnwise (specify axis = 1)\n",
        "c = np.array([[1, 2],[3, 4]])\n",
        "d = np.array([[5, 6],[7, 8]])\n",
        "np.concatenate((c,d),1)"
      ],
      "metadata": {
        "id": "xzsIdF-_2LTf",
        "colab": {
          "base_uri": "https://localhost:8080/"
        },
        "outputId": "999805a5-4f1a-4a0c-ac81-8bd04b6b44bb"
      },
      "execution_count": 33,
      "outputs": [
        {
          "output_type": "execute_result",
          "data": {
            "text/plain": [
              "array([[1, 2, 5, 6],\n",
              "       [3, 4, 7, 8]])"
            ]
          },
          "metadata": {},
          "execution_count": 33
        }
      ]
    },
    {
      "cell_type": "code",
      "source": [
        "# 16. Transpose the given arrays and concatenate by columnwise (specify axis = 1)\n",
        "a = np.array([[1,2],[3,4]])\n",
        "d = np.array([[5,6],[7,8]])\n",
        "np.concatenate((np.transpose(a),np.transpose(d)),1)"
      ],
      "metadata": {
        "id": "EAcsb80v20l7",
        "colab": {
          "base_uri": "https://localhost:8080/"
        },
        "outputId": "d6f1cf23-32d5-48d5-fab2-bafc1d4f8103"
      },
      "execution_count": 34,
      "outputs": [
        {
          "output_type": "execute_result",
          "data": {
            "text/plain": [
              "array([[1, 3, 5, 7],\n",
              "       [2, 4, 6, 8]])"
            ]
          },
          "metadata": {},
          "execution_count": 34
        }
      ]
    },
    {
      "cell_type": "code",
      "source": [
        "# 17. For a given array, print second and third column\n",
        "a = np.array([[2, 4, 6, 8, 10], \n",
        "              [3, 6, 9, 12, 15], \n",
        "              [4, 8, 12, 16, 20]])\n",
        "print(a[:,[1,2]])"
      ],
      "metadata": {
        "id": "-YRg_ekc3Ltv",
        "colab": {
          "base_uri": "https://localhost:8080/"
        },
        "outputId": "94576f80-82ae-4205-83fd-f20b2842f4c7"
      },
      "execution_count": 35,
      "outputs": [
        {
          "output_type": "stream",
          "name": "stdout",
          "text": [
            "[[ 4  6]\n",
            " [ 6  9]\n",
            " [ 8 12]]\n"
          ]
        }
      ]
    },
    {
      "cell_type": "code",
      "source": [
        "# 18. For a given array, print the values of the second and third rows from the second column.\n",
        "a = np.array([[10, 11, 12, 13, 14],\n",
        "               [15, 16, 17, 18, 19],\n",
        "               [20, 21, 22, 23, 24],\n",
        "               [25, 26, 27, 28, 29],\n",
        "               [30, 31, 32, 33, 34]])\n",
        "print(a[1:3,1])"
      ],
      "metadata": {
        "id": "Vn5NAWiO4cUq",
        "colab": {
          "base_uri": "https://localhost:8080/"
        },
        "outputId": "dda1ae63-0683-4bac-e125-470848759285"
      },
      "execution_count": 36,
      "outputs": [
        {
          "output_type": "stream",
          "name": "stdout",
          "text": [
            "[16 21]\n"
          ]
        }
      ]
    },
    {
      "cell_type": "code",
      "source": [
        "# 19. For a given array perform the following:\n",
        "# 1. Calculate mean row wise and column wise by specifying respective axis\n",
        "# 2. What is the average value of array\n",
        "array = np.array([[2, 4, 6, 8, 10], \n",
        "                  [3, 6, 9, 12, 15], \n",
        "                  [4, 8, 12, 16, 20]])\n",
        "print(np.mean(array,axis = 0), np.mean(array,axis = 1), np.mean(array))"
      ],
      "metadata": {
        "id": "_aj2nDw56yTi",
        "colab": {
          "base_uri": "https://localhost:8080/"
        },
        "outputId": "3bed7a58-3096-4217-cbe2-4c8255297097"
      },
      "execution_count": 37,
      "outputs": [
        {
          "output_type": "stream",
          "name": "stdout",
          "text": [
            "[ 3.  6.  9. 12. 15.] [ 6.  9. 12.] 9.0\n"
          ]
        }
      ]
    },
    {
      "cell_type": "code",
      "source": [
        "# 20. For a given array, get the slice of the first row from all the 3 matrices and print them.\n",
        "a3 = np.array([[[10, 11, 12], [13, 14, 15], [16, 17, 18]], \n",
        "               [[20, 21, 22], [23, 24, 25], [26, 27, 28]], \n",
        "               [[30, 31, 32], [33, 34, 35], [36, 37, 38]]])\n",
        "print(a3[0,:,:])"
      ],
      "metadata": {
        "id": "TFE-cLTq8nk-",
        "colab": {
          "base_uri": "https://localhost:8080/"
        },
        "outputId": "5e949069-b9c3-4c58-de53-f30531aebad8"
      },
      "execution_count": 38,
      "outputs": [
        {
          "output_type": "stream",
          "name": "stdout",
          "text": [
            "[[10 11 12]\n",
            " [13 14 15]\n",
            " [16 17 18]]\n"
          ]
        }
      ]
    },
    {
      "cell_type": "markdown",
      "source": [
        "Part 2"
      ],
      "metadata": {
        "id": "cNcelt-7qTZl"
      }
    },
    {
      "cell_type": "code",
      "source": [
        "# 1. For the given array, display the elements which are greater than 20\n",
        "a = np.arange(36)\n",
        "print(\"Values bigger than 20 =\", a[a>20])"
      ],
      "metadata": {
        "id": "OnVUrDeTSGY9",
        "colab": {
          "base_uri": "https://localhost:8080/"
        },
        "outputId": "4c291829-36ab-4184-a45b-21323efef21c"
      },
      "execution_count": 39,
      "outputs": [
        {
          "output_type": "stream",
          "name": "stdout",
          "text": [
            "Values bigger than 20 = [21 22 23 24 25 26 27 28 29 30 31 32 33 34 35]\n"
          ]
        }
      ]
    },
    {
      "cell_type": "code",
      "source": [
        "# 2. Create an array of 5 evenly spaced values from 0 to 20\n",
        "np.arange(0,21,5)"
      ],
      "metadata": {
        "id": "FkBi8hlKVloV",
        "colab": {
          "base_uri": "https://localhost:8080/"
        },
        "outputId": "fc0f08e1-7d37-4d74-be9b-cbed63d480f5"
      },
      "execution_count": 40,
      "outputs": [
        {
          "output_type": "execute_result",
          "data": {
            "text/plain": [
              "array([ 0,  5, 10, 15, 20])"
            ]
          },
          "metadata": {},
          "execution_count": 40
        }
      ]
    },
    {
      "cell_type": "code",
      "source": [
        "# 3. Create an array with values ranging from 0 to 5 (inclusive) and reshape the array with 2 rows and 3 columns\n",
        "np.arange(0,6)"
      ],
      "metadata": {
        "colab": {
          "base_uri": "https://localhost:8080/"
        },
        "id": "y7d_ZoaPV8cS",
        "outputId": "16320f78-56cc-4c70-f97c-76ced7afcfc4"
      },
      "execution_count": 41,
      "outputs": [
        {
          "output_type": "execute_result",
          "data": {
            "text/plain": [
              "array([0, 1, 2, 3, 4, 5])"
            ]
          },
          "metadata": {},
          "execution_count": 41
        }
      ]
    },
    {
      "cell_type": "code",
      "source": [
        "# 4. For given 2-D arrays, perform vertical and horizontal stack\n",
        "a = np.array([[9, 8],\n",
        "              [6, 5]]) \n",
        "\n",
        "b = np.array([[4, 7],\n",
        "              [3, 2]])\n",
        "\n",
        "np.vstack((a,b))\n",
        "np.hstack((a,b))"
      ],
      "metadata": {
        "id": "9-dwsuEZ_40e",
        "colab": {
          "base_uri": "https://localhost:8080/"
        },
        "outputId": "cc55b532-ff6e-4951-dec9-76889e21deb9"
      },
      "execution_count": 42,
      "outputs": [
        {
          "output_type": "execute_result",
          "data": {
            "text/plain": [
              "array([[9, 8, 4, 7],\n",
              "       [6, 5, 3, 2]])"
            ]
          },
          "metadata": {},
          "execution_count": 42
        }
      ]
    },
    {
      "cell_type": "code",
      "source": [
        "# 5. For a given 2-D array, perform addition and subtraction on the given matrices\n",
        "a = np.array([[1, 2],[3, 4]])\n",
        "b = np.array([[5, 6],[7, 8]])\n",
        "np.add(a,b)\n",
        "np.subtract(a,b)"
      ],
      "metadata": {
        "id": "UszoHTRJAfLq",
        "colab": {
          "base_uri": "https://localhost:8080/"
        },
        "outputId": "1d4b0c29-0003-4db6-92bd-660730bb483c"
      },
      "execution_count": 43,
      "outputs": [
        {
          "output_type": "execute_result",
          "data": {
            "text/plain": [
              "array([[-4, -4],\n",
              "       [-4, -4]])"
            ]
          },
          "metadata": {},
          "execution_count": 43
        }
      ]
    },
    {
      "cell_type": "code",
      "source": [
        "# 6. Matrix multiplication for 1-D array.\n",
        "a = np.array([9, 5, 7, 4])\n",
        "b = np.array([9, 5, 4, 3])\n",
        "np.dot(a,b)"
      ],
      "metadata": {
        "colab": {
          "base_uri": "https://localhost:8080/"
        },
        "id": "WufBdWDu9Ysf",
        "outputId": "e3bd54b2-f81f-4ec2-8f75-c2cdea6c761b"
      },
      "execution_count": 44,
      "outputs": [
        {
          "output_type": "execute_result",
          "data": {
            "text/plain": [
              "146"
            ]
          },
          "metadata": {},
          "execution_count": 44
        }
      ]
    },
    {
      "cell_type": "code",
      "source": [
        "# 7. Matrix multiplication for 2-D array.\n",
        "a = np.array([[1, 0],\n",
        "             [0, 1]])\n",
        "\n",
        "b = np.array([[4, 1],\n",
        "              [2, 2]])\n",
        "np.dot(a,b)"
      ],
      "metadata": {
        "colab": {
          "base_uri": "https://localhost:8080/"
        },
        "id": "c-jCU0gY9ij1",
        "outputId": "b41b7d9b-9f8a-4521-deb3-5f3ccdc5742d"
      },
      "execution_count": 45,
      "outputs": [
        {
          "output_type": "execute_result",
          "data": {
            "text/plain": [
              "array([[4, 1],\n",
              "       [2, 2]])"
            ]
          },
          "metadata": {},
          "execution_count": 45
        }
      ]
    },
    {
      "cell_type": "code",
      "source": [
        "\"\"\"\n",
        "8. Solve the below equations using numpy solver\n",
        "4X+3Y+2Z = 25,\n",
        "\n",
        "-2X+2Y+3Z = -10,\n",
        "\n",
        "3X-5Y+2Z = -4\n",
        "\"\"\"\n",
        "a = np.array([[4, 3, 2], [-2, 2, 3], [3, -5, 2]])\n",
        "b = np.array([25, -10, -4])\n",
        "np.linalg.solve(a, b)"
      ],
      "metadata": {
        "colab": {
          "base_uri": "https://localhost:8080/"
        },
        "id": "duEg2XbT90is",
        "outputId": "a35b6e3d-bba2-4e40-c0d2-3ed4e457d8e1"
      },
      "execution_count": 46,
      "outputs": [
        {
          "output_type": "execute_result",
          "data": {
            "text/plain": [
              "array([ 5.,  3., -2.])"
            ]
          },
          "metadata": {},
          "execution_count": 46
        }
      ]
    },
    {
      "cell_type": "code",
      "source": [
        "# 9. For a given array, compute ex element-wise\n",
        "a = np.array([3, 4, 6, 9, 8])\n",
        "np.exp(a)"
      ],
      "metadata": {
        "colab": {
          "base_uri": "https://localhost:8080/"
        },
        "id": "kO6_knUN-HJ8",
        "outputId": "8815f318-d14f-4a2e-fe0d-3d4e16c516d1"
      },
      "execution_count": 47,
      "outputs": [
        {
          "output_type": "execute_result",
          "data": {
            "text/plain": [
              "array([  20.08553692,   54.59815003,  403.42879349, 8103.08392758,\n",
              "       2980.95798704])"
            ]
          },
          "metadata": {},
          "execution_count": 47
        }
      ]
    },
    {
      "cell_type": "code",
      "source": [
        "# 10. For a given array, find the cumulative sum of the elements row wise and column wise\n",
        "a = np.array([[0, 1, 2, 3], [4, 5, 6, 7], [8, 9, 10, 11]])\n",
        "np.cumsum(a,axis=0)\n",
        "np.cumsum(a,axis=1)"
      ],
      "metadata": {
        "id": "zo8N-a2EwrLG",
        "colab": {
          "base_uri": "https://localhost:8080/"
        },
        "outputId": "1d2b41c7-0249-4342-9cd8-bc37d6a3b363"
      },
      "execution_count": 48,
      "outputs": [
        {
          "output_type": "execute_result",
          "data": {
            "text/plain": [
              "array([[ 0,  1,  3,  6],\n",
              "       [ 4,  9, 15, 22],\n",
              "       [ 8, 17, 27, 38]])"
            ]
          },
          "metadata": {},
          "execution_count": 48
        }
      ]
    }
  ]
}